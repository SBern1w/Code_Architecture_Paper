{
 "cells": [
  {
   "cell_type": "markdown",
   "metadata": {},
   "source": [
    "# Creation HYP file"
   ]
  },
  {
   "cell_type": "code",
   "execution_count": 11,
   "metadata": {},
   "outputs": [],
   "source": [
    "import json"
   ]
  },
  {
   "cell_type": "code",
   "execution_count": 12,
   "metadata": {},
   "outputs": [],
   "source": [
    "def append_simulation_2(hyp_simulations, n_inputs, arct, pc_iloss_mu, pc_iloss_sigma, imbalance_mu, folder_path):\n",
    "    dictionary = {\n",
    "        \"n_inputs\": n_inputs,\n",
    "        \"arct\": arct,\n",
    "        \"pc_iloss_mu\": pc_iloss_mu,\n",
    "        \"pc_iloss_sigma\": pc_iloss_sigma,\n",
    "        \"imbalance_mu\": imbalance_mu,\n",
    "        \"folder_path\": folder_path\n",
    "        }\n",
    "    \n",
    "    hyp_simulations[\"runs\"].append(dictionary)"
   ]
  },
  {
   "cell_type": "code",
   "execution_count": 13,
   "metadata": {},
   "outputs": [
    {
     "name": "stdout",
     "output_type": "stream",
     "text": [
      "n simulations: 90\n"
     ]
    }
   ],
   "source": [
    "# Create the hyp file\n",
    "hyp_simulations = {\"runs\": []}\n",
    "\n",
    "# Data INPUT to be written to a JSON file\n",
    "n_inputs = 8\n",
    "folder_path = \"outdata/\"\n",
    "\n",
    "arct = \"Clements_Arct,ClementsBell_Arct,Fldzhyan_Arct,FldzhyanBell_Arct,FldzhyanBellHalf_Arct,NEUROPULS_Arct,NEUROPULSCrossingSide_Arct,NEUROPULSBell_Arct,NEUROPULSBellCrossingSide_Arct,NEUROPULSBellCrossingSide2_Arct,NEUROPULSHalf_Arct,NEUROPULSBellHalf_Arct,NEUROPULSBellHalfCrossingSide_Arct\"\n",
    "pc_iloss_mu = [-1.5, -1.0, 0.0]\n",
    "pc_iloss_sigma = [0.0, 0.1, 0.2, 0.3, 0.4, 0.5]\n",
    "imbalance_mu = [-0.25, 0.0, 0.25]\n",
    "\n",
    "for pcilossmu in pc_iloss_mu:\n",
    "    for pcilosssigma in pc_iloss_sigma:\n",
    "        for imbalancemu in imbalance_mu:\n",
    "            append_simulation_2(\n",
    "                hyp_simulations=hyp_simulations,\n",
    "                n_inputs=n_inputs,\n",
    "                arct=arct,\n",
    "                pc_iloss_mu=pcilossmu,\n",
    "                pc_iloss_sigma=pcilosssigma,\n",
    "                imbalance_mu=imbalancemu,\n",
    "                folder_path=folder_path,)\n",
    "\n",
    "n_inputs = [4, 6, 10, 12, 14, 16]\n",
    "\n",
    "for ninput in n_inputs:\n",
    "    for imbalancemu in imbalance_mu:\n",
    "        append_simulation_2(\n",
    "            hyp_simulations=hyp_simulations,\n",
    "            n_inputs=ninput,\n",
    "            arct=arct,\n",
    "            pc_iloss_mu=0.0,\n",
    "            pc_iloss_sigma=0.0,\n",
    "            imbalance_mu=imbalancemu,\n",
    "            folder_path=folder_path,)\n",
    "\n",
    "for ninput in n_inputs:\n",
    "    for imbalancemu in imbalance_mu:\n",
    "        append_simulation_2(\n",
    "            hyp_simulations=hyp_simulations,\n",
    "            n_inputs=ninput,\n",
    "            arct=arct,\n",
    "            pc_iloss_mu=-1.0,\n",
    "            pc_iloss_sigma=0.5,\n",
    "            imbalance_mu=imbalancemu,\n",
    "            folder_path=folder_path,)\n",
    "\n",
    "\n",
    "print(\"n simulations: \"+str(len(hyp_simulations[\"runs\"])))\n",
    "\n",
    "if True:\n",
    "    # Write JSON data to a file\n",
    "    with open('hyp.json', 'w') as json_file:\n",
    "        json.dump(hyp_simulations, json_file, indent=4)"
   ]
  },
  {
   "cell_type": "code",
   "execution_count": null,
   "metadata": {},
   "outputs": [],
   "source": []
  }
 ],
 "metadata": {
  "kernelspec": {
   "display_name": "torch_NP",
   "language": "python",
   "name": "python3"
  },
  "language_info": {
   "codemirror_mode": {
    "name": "ipython",
    "version": 3
   },
   "file_extension": ".py",
   "mimetype": "text/x-python",
   "name": "python",
   "nbconvert_exporter": "python",
   "pygments_lexer": "ipython3",
   "version": "3.12.3"
  }
 },
 "nbformat": 4,
 "nbformat_minor": 2
}
