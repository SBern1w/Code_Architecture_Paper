{
 "cells": [
  {
   "cell_type": "markdown",
   "metadata": {},
   "source": [
    "# Creation HYP file"
   ]
  },
  {
   "cell_type": "code",
   "execution_count": 4,
   "metadata": {},
   "outputs": [],
   "source": [
    "import json"
   ]
  },
  {
   "cell_type": "code",
   "execution_count": 5,
   "metadata": {},
   "outputs": [],
   "source": [
    "def append_simulation(hyp_simulations, n_inputs, arct, pc_iloss, i_loss, imbalance, cross_talk, folder_path):\n",
    "    dictionary = {\n",
    "        \"n_inputs\": n_inputs,\n",
    "        \"arct\": arct,\n",
    "        \"pc_iloss\": pc_iloss,\n",
    "        \"i_loss\": i_loss,\n",
    "        \"imbalance\": imbalance,\n",
    "        \"cross_talk\": cross_talk,\n",
    "        \"folder_path\": folder_path\n",
    "        }\n",
    "    \n",
    "    hyp_simulations[\"runs\"].append(dictionary)"
   ]
  },
  {
   "cell_type": "code",
   "execution_count": 6,
   "metadata": {},
   "outputs": [
    {
     "name": "stdout",
     "output_type": "stream",
     "text": [
      "n simulations: 39\n"
     ]
    }
   ],
   "source": [
    "# Create the hyp file\n",
    "hyp_simulations = {\"runs\": []}\n",
    "\n",
    "# Data INPUT to be written to a JSON file\n",
    "n_inputs = 8\n",
    "folder_path = \"outdata/\"\n",
    "\n",
    "arct = \"Clements_Arct,ClementsBell_Arct,Fldzhyan_Arct,FldzhyanBell_Arct,FldzhyanBellHalf_Arct,NEUROPULS_Arct,NEUROPULSCrossingSide_Arct,NEUROPULSBell_Arct,NEUROPULSBellCrossingSide_Arct,NEUROPULSBellCrossingSide2_Arct,NEUROPULSHalf_Arct,NEUROPULSBellHalf_Arct,NEUROPULSBellHalfCrossingSide_Arct\"\n",
    "pc_iloss = [-2.0, -1.75, -1.5, -1.25, -1.0, -0.75, -0.5, -0.25, 0.0]\n",
    "\n",
    "for pciloss in pc_iloss:\n",
    "    append_simulation(\n",
    "        hyp_simulations=hyp_simulations,\n",
    "        n_inputs=n_inputs,\n",
    "        arct=arct,\n",
    "        pc_iloss=pciloss,\n",
    "        i_loss=0.0,\n",
    "        imbalance=0.0,\n",
    "        cross_talk=-1000.0,\n",
    "        folder_path=folder_path,)\n",
    "\n",
    "for pciloss in pc_iloss:\n",
    "    append_simulation(\n",
    "        hyp_simulations=hyp_simulations,\n",
    "        n_inputs=n_inputs,\n",
    "        arct=arct,\n",
    "        pc_iloss=pciloss,\n",
    "        i_loss=-0.5,\n",
    "        imbalance=0.5,\n",
    "        cross_talk=-30.0,\n",
    "        folder_path=folder_path,)\n",
    "    \n",
    "for pciloss in pc_iloss:\n",
    "    append_simulation(\n",
    "        hyp_simulations=hyp_simulations,\n",
    "        n_inputs=n_inputs,\n",
    "        arct=arct,\n",
    "        pc_iloss=pciloss,\n",
    "        i_loss=-0.5,\n",
    "        imbalance=-0.5,\n",
    "        cross_talk=-30.0,\n",
    "        folder_path=folder_path,)\n",
    "\n",
    "\n",
    "n_inputs = [4, 6, 10, 12, 14, 16]\n",
    "\n",
    "for ninput in n_inputs:\n",
    "    append_simulation(\n",
    "        hyp_simulations=hyp_simulations,\n",
    "        n_inputs=ninput,\n",
    "        arct=arct,\n",
    "        pc_iloss=-1.0,\n",
    "        i_loss=-0.5,\n",
    "        imbalance=0.5,\n",
    "        cross_talk=-30.0,\n",
    "        folder_path=folder_path,)\n",
    "\n",
    "for ninput in n_inputs:\n",
    "    append_simulation(\n",
    "        hyp_simulations=hyp_simulations,\n",
    "        n_inputs=ninput,\n",
    "        arct=arct,\n",
    "        pc_iloss=-1.0,\n",
    "        i_loss=-0.5,\n",
    "        imbalance=-0.5,\n",
    "        cross_talk=-30.0,\n",
    "        folder_path=folder_path,)\n",
    "\n",
    "\n",
    "print(\"n simulations: \"+str(len(hyp_simulations[\"runs\"])))\n",
    "\n",
    "if True:\n",
    "    # Write JSON data to a file\n",
    "    with open('hyp.json', 'w') as json_file:\n",
    "        json.dump(hyp_simulations, json_file, indent=4)"
   ]
  },
  {
   "cell_type": "code",
   "execution_count": null,
   "metadata": {},
   "outputs": [],
   "source": []
  }
 ],
 "metadata": {
  "kernelspec": {
   "display_name": "torch_NP",
   "language": "python",
   "name": "python3"
  },
  "language_info": {
   "codemirror_mode": {
    "name": "ipython",
    "version": 3
   },
   "file_extension": ".py",
   "mimetype": "text/x-python",
   "name": "python",
   "nbconvert_exporter": "python",
   "pygments_lexer": "ipython3",
   "version": "3.12.3"
  }
 },
 "nbformat": 4,
 "nbformat_minor": 2
}
