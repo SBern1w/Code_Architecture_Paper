{
 "cells": [
  {
   "cell_type": "markdown",
   "metadata": {},
   "source": [
    "# Creation HYP file"
   ]
  },
  {
   "cell_type": "code",
   "execution_count": 2,
   "metadata": {},
   "outputs": [],
   "source": [
    "import json"
   ]
  },
  {
   "cell_type": "code",
   "execution_count": 3,
   "metadata": {},
   "outputs": [],
   "source": [
    "def append_simulation(hyp_simulations, n_inputs, arct, i_loss, imbalance, cross_talk, folder_path):\n",
    "    dictionary = {\n",
    "        \"n_inputs\": n_inputs,\n",
    "        \"arct\": arct,\n",
    "        \"i_loss\": i_loss,\n",
    "        \"imbalance\": imbalance,\n",
    "        \"cross_talk\": cross_talk,\n",
    "        \"folder_path\": folder_path\n",
    "        }\n",
    "    \n",
    "    hyp_simulations[\"runs\"].append(dictionary)"
   ]
  },
  {
   "cell_type": "code",
   "execution_count": 10,
   "metadata": {},
   "outputs": [
    {
     "name": "stdout",
     "output_type": "stream",
     "text": [
      "108\n"
     ]
    }
   ],
   "source": [
    "# Create the hyp file\n",
    "hyp_simulations = {\"runs\": []}\n",
    "\n",
    "# Data INPUT to be written to a JSON file\n",
    "n_inputs = 8\n",
    "folder_path = \"outdata/\"\n",
    "\n",
    "arct = \"Clements_Arct,ClementsBell_Arct,Fldzhyan_Arct,FldzhyanBell_Arct,FldzhyanBellHalf_Arct,NEUROPULS_Arct,NEUROPULSCrossingSide_Arct,NEUROPULSBell_Arct,NEUROPULSBellCrossingSide_Arct,NEUROPULSHalf_Arct,NEUROPULSBellHalf_Arct,NEUROPULSBellHalfCrossingSide_Arct\"\n",
    "i_loss = [0.0, 0.05, 0.1, 0.2]\n",
    "imbalance = [0.0, 0.02, 0.04, 0.06, 0.08, 0.1, 0.2]\n",
    "\n",
    "for loss in i_loss:\n",
    "    for imb in imbalance:\n",
    "        append_simulation(\n",
    "            hyp_simulations=hyp_simulations,\n",
    "            n_inputs=n_inputs,\n",
    "            arct=arct,\n",
    "            i_loss=loss,\n",
    "            imbalance=imb,\n",
    "            cross_talk=0.0,\n",
    "            folder_path=folder_path,)\n",
    "\n",
    "\n",
    "arct = \"Fldzhyan_Arct,FldzhyanBell_Arct,FldzhyanBellHalf_Arct\"\n",
    "imbalance = [-0.02, -0.04, -0.06, -0.08, -0.1, -0.2]\n",
    "\n",
    "for loss in i_loss:\n",
    "    for imb in imbalance:\n",
    "        append_simulation(\n",
    "            hyp_simulations=hyp_simulations,\n",
    "            n_inputs=n_inputs,\n",
    "            arct=arct,\n",
    "            i_loss=loss,\n",
    "            imbalance=imb,\n",
    "            cross_talk=0.0,\n",
    "            folder_path=folder_path,)\n",
    "\n",
    "arct = \"NEUROPULS_Arct,NEUROPULSCrossingSide_Arct,NEUROPULSBell_Arct,NEUROPULSBellCrossingSide_Arct,NEUROPULSHalf_Arct,NEUROPULSBellHalf_Arct,NEUROPULSBellHalfCrossingSide_Arct\"\n",
    "imbalance = [0.0, 0.02, 0.04, 0.06, 0.08, 0.1, 0.2]\n",
    "cross_talk = [0.01, 0.1]\n",
    "\n",
    "for loss in i_loss:\n",
    "    for imb in imbalance:\n",
    "        for crs_tlk in cross_talk:\n",
    "            append_simulation(\n",
    "                hyp_simulations=hyp_simulations,\n",
    "                n_inputs=n_inputs,\n",
    "                arct=arct,\n",
    "                i_loss=loss,\n",
    "                imbalance=imb,\n",
    "                cross_talk=crs_tlk,\n",
    "                folder_path=folder_path,)\n",
    "\n",
    "print(len(hyp_simulations[\"runs\"]))\n",
    "\n",
    "if True:\n",
    "    # Write JSON data to a file\n",
    "    with open('hyp.json', 'w') as json_file:\n",
    "        json.dump(hyp_simulations, json_file, indent=4)"
   ]
  },
  {
   "cell_type": "code",
   "execution_count": null,
   "metadata": {},
   "outputs": [],
   "source": []
  }
 ],
 "metadata": {
  "kernelspec": {
   "display_name": "torch_NP",
   "language": "python",
   "name": "python3"
  },
  "language_info": {
   "codemirror_mode": {
    "name": "ipython",
    "version": 3
   },
   "file_extension": ".py",
   "mimetype": "text/x-python",
   "name": "python",
   "nbconvert_exporter": "python",
   "pygments_lexer": "ipython3",
   "version": "3.12.3"
  }
 },
 "nbformat": 4,
 "nbformat_minor": 2
}
