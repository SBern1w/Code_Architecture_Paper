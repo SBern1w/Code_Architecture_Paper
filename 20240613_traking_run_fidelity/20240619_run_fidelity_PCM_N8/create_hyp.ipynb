{
 "cells": [
  {
   "cell_type": "markdown",
   "metadata": {},
   "source": [
    "# Creation HYP file"
   ]
  },
  {
   "cell_type": "code",
   "execution_count": 2,
   "metadata": {},
   "outputs": [],
   "source": [
    "import json"
   ]
  },
  {
   "cell_type": "code",
   "execution_count": 3,
   "metadata": {},
   "outputs": [],
   "source": [
    "def append_simulation(hyp_simulations, n_inputs, arct, pc_iloss, i_loss, imbalance, cross_talk, folder_path):\n",
    "    dictionary = {\n",
    "        \"n_inputs\": n_inputs,\n",
    "        \"arct\": arct,\n",
    "        \"pc_iloss\": pc_iloss,\n",
    "        \"i_loss\": i_loss,\n",
    "        \"imbalance\": imbalance,\n",
    "        \"cross_talk\": cross_talk,\n",
    "        \"folder_path\": folder_path\n",
    "        }\n",
    "    \n",
    "    hyp_simulations[\"runs\"].append(dictionary)"
   ]
  },
  {
   "cell_type": "code",
   "execution_count": 1,
   "metadata": {},
   "outputs": [
    {
     "ename": "NameError",
     "evalue": "name 'append_simulation' is not defined",
     "output_type": "error",
     "traceback": [
      "\u001b[0;31m---------------------------------------------------------------------------\u001b[0m",
      "\u001b[0;31mNameError\u001b[0m                                 Traceback (most recent call last)",
      "Cell \u001b[0;32mIn[1], line 16\u001b[0m\n\u001b[1;32m     14\u001b[0m     \u001b[38;5;28;01mfor\u001b[39;00m loss \u001b[38;5;129;01min\u001b[39;00m i_loss:\n\u001b[1;32m     15\u001b[0m         \u001b[38;5;28;01mfor\u001b[39;00m imb \u001b[38;5;129;01min\u001b[39;00m imbalance:\n\u001b[0;32m---> 16\u001b[0m             \u001b[43mappend_simulation\u001b[49m(\n\u001b[1;32m     17\u001b[0m                 hyp_simulations\u001b[38;5;241m=\u001b[39mhyp_simulations,\n\u001b[1;32m     18\u001b[0m                 n_inputs\u001b[38;5;241m=\u001b[39mn_inputs,\n\u001b[1;32m     19\u001b[0m                 arct\u001b[38;5;241m=\u001b[39marct,\n\u001b[1;32m     20\u001b[0m                 pc_iloss\u001b[38;5;241m=\u001b[39mpciloss,\n\u001b[1;32m     21\u001b[0m                 i_loss\u001b[38;5;241m=\u001b[39mloss,\n\u001b[1;32m     22\u001b[0m                 imbalance\u001b[38;5;241m=\u001b[39mimb,\n\u001b[1;32m     23\u001b[0m                 cross_talk\u001b[38;5;241m=\u001b[39m\u001b[38;5;241m-\u001b[39m\u001b[38;5;241m1000.0\u001b[39m,\n\u001b[1;32m     24\u001b[0m                 folder_path\u001b[38;5;241m=\u001b[39mfolder_path,)\n\u001b[1;32m     27\u001b[0m arct \u001b[38;5;241m=\u001b[39m \u001b[38;5;124m\"\u001b[39m\u001b[38;5;124mFldzhyan_Arct,FldzhyanBell_Arct,FldzhyanBellHalf_Arct\u001b[39m\u001b[38;5;124m\"\u001b[39m\n\u001b[1;32m     28\u001b[0m imbalance \u001b[38;5;241m=\u001b[39m [\u001b[38;5;241m-\u001b[39m\u001b[38;5;241m0.5\u001b[39m]\n",
      "\u001b[0;31mNameError\u001b[0m: name 'append_simulation' is not defined"
     ]
    }
   ],
   "source": [
    "# Create the hyp file\n",
    "hyp_simulations = {\"runs\": []}\n",
    "\n",
    "# Data INPUT to be written to a JSON file\n",
    "n_inputs = 8\n",
    "folder_path = \"outdata/\"\n",
    "\n",
    "arct = \"Clements_Arct,ClementsBell_Arct,Fldzhyan_Arct,FldzhyanBell_Arct,FldzhyanBellHalf_Arct,NEUROPULS_Arct,NEUROPULSCrossingSide_Arct,NEUROPULSBell_Arct,NEUROPULSBellCrossingSide_Arct,NEUROPULSHalf_Arct,NEUROPULSBellHalf_Arct,NEUROPULSBellHalfCrossingSide_Arct\"\n",
    "pc_iloss = [0.0, -0.1, -0.2, -0.5, -1, -1.5, -2]\n",
    "i_loss = [0.0, -0.5]\n",
    "imbalance = [0.0, 0.5]\n",
    "\n",
    "for pciloss in pc_iloss:\n",
    "    for loss in i_loss:\n",
    "        for imb in imbalance:\n",
    "            append_simulation(\n",
    "                hyp_simulations=hyp_simulations,\n",
    "                n_inputs=n_inputs,\n",
    "                arct=arct,\n",
    "                pc_iloss=pciloss,\n",
    "                i_loss=loss,\n",
    "                imbalance=imb,\n",
    "                cross_talk=-1000.0,\n",
    "                folder_path=folder_path,)\n",
    "\n",
    "\n",
    "arct = \"Fldzhyan_Arct,FldzhyanBell_Arct,FldzhyanBellHalf_Arct\"\n",
    "imbalance = [-0.5]\n",
    "\n",
    "for pciloss in pc_iloss:\n",
    "    for loss in i_loss:\n",
    "        for imb in imbalance:\n",
    "            append_simulation(\n",
    "                hyp_simulations=hyp_simulations,\n",
    "                n_inputs=n_inputs,\n",
    "                arct=arct,\n",
    "                pc_iloss=pciloss,\n",
    "                i_loss=loss,\n",
    "                imbalance=imb,\n",
    "                cross_talk=-1000.0,\n",
    "                folder_path=folder_path,)\n",
    "\n",
    "arct = \"NEUROPULS_Arct,NEUROPULSCrossingSide_Arct,NEUROPULSBell_Arct,NEUROPULSBellCrossingSide_Arct,NEUROPULSHalf_Arct,NEUROPULSBellHalf_Arct,NEUROPULSBellHalfCrossingSide_Arct\"\n",
    "imbalance = [0.0, 0.5]\n",
    "cross_talk = [-30]\n",
    "\n",
    "for pciloss in pc_iloss:\n",
    "    for loss in i_loss:\n",
    "        for imb in imbalance:\n",
    "            for crs_tlk in cross_talk:\n",
    "                append_simulation(\n",
    "                    hyp_simulations=hyp_simulations,\n",
    "                    n_inputs=n_inputs,\n",
    "                    arct=arct,\n",
    "                    pc_iloss=pciloss,\n",
    "                    i_loss=loss,\n",
    "                    imbalance=imb,\n",
    "                    cross_talk=crs_tlk,\n",
    "                    folder_path=folder_path,)\n",
    "\n",
    "print(len(hyp_simulations[\"runs\"]))\n",
    "\n",
    "if True:\n",
    "    # Write JSON data to a file\n",
    "    with open('hyp.json', 'w') as json_file:\n",
    "        json.dump(hyp_simulations, json_file, indent=4)"
   ]
  },
  {
   "cell_type": "code",
   "execution_count": null,
   "metadata": {},
   "outputs": [],
   "source": []
  }
 ],
 "metadata": {
  "kernelspec": {
   "display_name": "torch_NP",
   "language": "python",
   "name": "python3"
  },
  "language_info": {
   "codemirror_mode": {
    "name": "ipython",
    "version": 3
   },
   "file_extension": ".py",
   "mimetype": "text/x-python",
   "name": "python",
   "nbconvert_exporter": "python",
   "pygments_lexer": "ipython3",
   "version": "3.12.3"
  }
 },
 "nbformat": 4,
 "nbformat_minor": 2
}
