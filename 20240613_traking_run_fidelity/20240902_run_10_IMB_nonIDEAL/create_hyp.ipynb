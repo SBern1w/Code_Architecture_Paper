{
 "cells": [
  {
   "cell_type": "markdown",
   "metadata": {},
   "source": [
    "# Creation HYP file"
   ]
  },
  {
   "cell_type": "code",
   "execution_count": 2,
   "metadata": {},
   "outputs": [],
   "source": [
    "import json"
   ]
  },
  {
   "cell_type": "code",
   "execution_count": 5,
   "metadata": {},
   "outputs": [],
   "source": [
    "def append_simulation(hyp_simulations, n_inputs, arct, pc_iloss, il_mmi, imbalance, il_cross, cross_talk, folder_path):\n",
    "    dictionary = {\n",
    "        \"n_inputs\": n_inputs,\n",
    "        \"arct\": arct,\n",
    "        \"pc_iloss\": pc_iloss,\n",
    "        \"il_mmi\": il_mmi,\n",
    "        \"imbalance\": imbalance,\n",
    "        \"il_cross\": il_cross,\n",
    "        \"cross_talk\": cross_talk,\n",
    "        \"folder_path\": folder_path\n",
    "        }\n",
    "    \n",
    "    hyp_simulations[\"runs\"].append(dictionary)"
   ]
  },
  {
   "cell_type": "code",
   "execution_count": 6,
   "metadata": {},
   "outputs": [
    {
     "name": "stdout",
     "output_type": "stream",
     "text": [
      "n simulations: 36\n"
     ]
    }
   ],
   "source": [
    "# Create the hyp file\n",
    "hyp_simulations = {\"runs\": []}\n",
    "\n",
    "# Data INPUT to be written to a JSON file\n",
    "n_inputs = 8\n",
    "folder_path = \"outdata/\"\n",
    "\n",
    "arct = \"Clements_Arct,Fldzhyan_Arct,NEUROPULSCrossingSide_Arct\"\n",
    "imbalance = [-10., -9., -8., -7., -6., -5., -4., -3., -2.,\n",
    "             2., 3., 4., 5., 6., 7., 8., 9., 10.]\n",
    "\n",
    "for imb in imbalance:\n",
    "    append_simulation(\n",
    "        hyp_simulations=hyp_simulations,\n",
    "        n_inputs=n_inputs,\n",
    "        arct=arct,\n",
    "        pc_iloss=0.0,\n",
    "        il_mmi=0.0,\n",
    "        imbalance=imb,\n",
    "        il_cross=0.0,\n",
    "        cross_talk=-1000.0,\n",
    "        folder_path=folder_path,)\n",
    "\n",
    "for imb in imbalance:\n",
    "    append_simulation(\n",
    "        hyp_simulations=hyp_simulations,\n",
    "        n_inputs=n_inputs,\n",
    "        arct=arct,\n",
    "        pc_iloss=0.0,\n",
    "        il_mmi=-0.5,\n",
    "        imbalance=imb,\n",
    "        il_cross=-0.2,\n",
    "        cross_talk=-35.0,\n",
    "        folder_path=folder_path,)\n",
    "\n",
    "print(\"n simulations: \"+str(len(hyp_simulations[\"runs\"])))\n",
    "\n",
    "if True:\n",
    "    # Write JSON data to a file\n",
    "    with open('hyp.json', 'w') as json_file:\n",
    "        json.dump(hyp_simulations, json_file, indent=4)"
   ]
  },
  {
   "cell_type": "code",
   "execution_count": null,
   "metadata": {},
   "outputs": [],
   "source": []
  }
 ],
 "metadata": {
  "kernelspec": {
   "display_name": "torch_NP",
   "language": "python",
   "name": "python3"
  },
  "language_info": {
   "codemirror_mode": {
    "name": "ipython",
    "version": 3
   },
   "file_extension": ".py",
   "mimetype": "text/x-python",
   "name": "python",
   "nbconvert_exporter": "python",
   "pygments_lexer": "ipython3",
   "version": "3.12.3"
  }
 },
 "nbformat": 4,
 "nbformat_minor": 2
}
