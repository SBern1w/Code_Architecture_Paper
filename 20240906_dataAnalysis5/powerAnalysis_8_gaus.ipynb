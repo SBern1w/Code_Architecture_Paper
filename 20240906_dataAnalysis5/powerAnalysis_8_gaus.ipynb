{
 "cells": [
  {
   "cell_type": "markdown",
   "metadata": {},
   "source": [
    "# Power analysis"
   ]
  },
  {
   "cell_type": "code",
   "execution_count": 399,
   "metadata": {},
   "outputs": [],
   "source": [
    "import json\n",
    "import os\n",
    "import numpy as np\n",
    "import re\n",
    "import pandas as pd\n",
    "\n",
    "seed = 37\n",
    "np.random.seed(seed)"
   ]
  },
  {
   "cell_type": "code",
   "execution_count": 400,
   "metadata": {},
   "outputs": [],
   "source": [
    "# Data INPUT to be written to a JSON file\n",
    "name_architectures = [\n",
    "    'Clements_Arct',\n",
    "    'Fldzhyan_Arct',\n",
    "    'NEUROPULSCrossingSide_Arct']\n",
    "\n",
    "arct = 'Clements_Arct'\n",
    "\n",
    "n_inputs = 4\n",
    "if n_inputs == 4:\n",
    "    n_epochs = 20000\n",
    "elif n_inputs == 6:\n",
    "    n_epochs = 21000\n",
    "elif n_inputs == 8:\n",
    "    n_epochs = 22000\n",
    "elif n_inputs == 10:\n",
    "    n_epochs = 23000\n",
    "elif n_inputs == 12:\n",
    "    n_epochs = 24000\n",
    "elif n_inputs == 14:\n",
    "    n_epochs = 25000\n",
    "elif n_inputs == 16:\n",
    "    n_epochs = 26000\n",
    "\n",
    "directory_run = 'outdata/20240902_run_8_gaus'\n",
    "\n",
    "name_file = \"traking_powers_\"+arct+\"_N\"+str(n_inputs)\n",
    "\n",
    "data = {\n",
    "    \"name_file\": name_file,\n",
    "    \"arct\": arct,\n",
    "    \"n_inputs\": n_inputs,\n",
    "    \"n_epochs\": n_epochs,\n",
    "    \"date\": \"20240902\",\n",
    "    \"train_type\": \"1-Fidelity\",\n",
    "    \"seed\": 37,\n",
    "    \"n_matrices\": 1000,\n",
    "    \"n_repetitions\": 5,\n",
    "    \"lr\": 0.001,\n",
    "    \"n_bachup\": 500,\n",
    "\n",
    "    \"data_out_type\": \"insertionlosses\",\n",
    "    \"rep_type\": \"all repetitions take considerations\",\n",
    "    \"num_vectors\": 1000,\n",
    "    \"simulations\": []\n",
    "    }\n",
    "\n",
    "folder_relative_path = \"organized_data/\"\n",
    "\n",
    "if True:\n",
    "    # Write JSON data to a file\n",
    "    with open(folder_relative_path+data[\"date\"]+\"_\"+data[\"name_file\"]+'.json', 'w') as json_file:\n",
    "        json.dump(data, json_file, indent=4)"
   ]
  },
  {
   "cell_type": "code",
   "execution_count": 401,
   "metadata": {},
   "outputs": [],
   "source": [
    "def append_gaussian_output_simulation(data, pc_iloss_mu, pc_iloss_sigma, imbalance_mu, i_loss=None,\n",
    "                                      i_loss_q25=None, i_loss_q50=None, i_loss_q75=None,\n",
    "                                      i_loss_q25_dB=None, i_loss_q50_dB=None, i_loss_q75_dB=None,):\n",
    "    dictionary = {\n",
    "        \"pc_iloss_mu\": pc_iloss_mu,\n",
    "        \"pc_iloss_sigma\": pc_iloss_sigma,\n",
    "        \"i_loss_MMI_mu\": -0.5,\n",
    "        \"i_loss_MMI_sigma\": 0.1,\n",
    "        \"imbalance_mu\": imbalance_mu,\n",
    "        \"imbalance_sigma\": 0.15,\n",
    "        \"i_loss_Crossing_mu\": -0.2,\n",
    "        \"i_loss_Crossing_sigma\": 0.05,\n",
    "        \"cross_talk_mu\": -35.0,\n",
    "        \"cross_talk_sigma\": 1.0,\n",
    "\n",
    "        \"i_loss\": i_loss,\n",
    "        \"i_loss_q25\": i_loss_q25,\n",
    "        \"i_loss_q50\": i_loss_q50,\n",
    "        \"i_loss_q75\": i_loss_q75,\n",
    "        \"i_loss_q25_dB\": i_loss_q25_dB,\n",
    "        \"i_loss_q50_dB\": i_loss_q50_dB,\n",
    "        \"i_loss_q75_dB\": i_loss_q75_dB\n",
    "        }\n",
    "    \n",
    "    data[\"simulations\"].append(dictionary)"
   ]
  },
  {
   "cell_type": "code",
   "execution_count": 402,
   "metadata": {},
   "outputs": [],
   "source": [
    "# Read\n",
    "with open(folder_relative_path+data[\"date\"]+\"_\"+data[\"name_file\"]+'.json', 'r') as file:\n",
    "    data = json.load(file)"
   ]
  },
  {
   "cell_type": "markdown",
   "metadata": {},
   "source": [
    "# Derive the insertion LOSSES"
   ]
  },
  {
   "cell_type": "code",
   "execution_count": 403,
   "metadata": {},
   "outputs": [
    {
     "name": "stdout",
     "output_type": "stream",
     "text": [
      "Number of data saved: 5000\n"
     ]
    }
   ],
   "source": [
    "# Extract data matrix of the predictions matricies\n",
    "def extract_prediction_matrices_1sim(directory, arct):\n",
    "    prediction_matrices = []\n",
    "    # Loop through each file in the directory\n",
    "    for filename in os.listdir(directory):\n",
    "        file_path = os.path.join(directory, filename)       # Construct the full file path\n",
    "        if os.path.isfile(file_path):                       # Check if it is a file\n",
    "            result_sim = np.load(file_path, allow_pickle=True)\n",
    "            predic_m = [array for label, array in result_sim if arct in label and \"prediction\" in label]\n",
    "        if predic_m:    # If there are elements\n",
    "            prediction_matrices.extend(predic_m)\n",
    "    return prediction_matrices\n",
    "\n",
    "# Create the inputs (electri fiels so I need to make uniform distribute in the complex between -1 and 1)\n",
    "def define_inputs_eletrical_fields(num_vectors, n_inputs):\n",
    "    real_part = np.random.uniform(-1, 1, (num_vectors, n_inputs))\n",
    "    imaginary_part  = np.random.uniform(-1, 1, (num_vectors, n_inputs))\n",
    "    complex_vector = real_part + 1j * imaginary_part\n",
    "    return complex_vector\n",
    "\n",
    "def extract_values(simulation_folder):\n",
    "    # Patterns to match each value, ensuring correct order\n",
    "    patterns = {\n",
    "        'pcilossmu': r\"pcilossmu(-?\\d+\\.\\d+)\",\n",
    "        'pcilosssigma': r\"pcilosssigma(-?\\d+\\.\\d+)\",\n",
    "        'imbalancemu': r\"imbalancemu(-?\\d+\\.\\d+)\",\n",
    "    }\n",
    "    values = {}\n",
    "    last_end = 0  # Track the end position of the last match\n",
    "    for key, pattern in patterns.items():\n",
    "        match = re.search(pattern, simulation_folder[last_end:])\n",
    "        if match:\n",
    "            values[key] = float(match.group(1))\n",
    "            last_end += match.end()\n",
    "    return values\n",
    "\n",
    "# Derive the losses my making the moltiplipication matrix for \n",
    "def model_losses(preditions, input_vectors, simulation_folder):\n",
    "    preditions = np.array(preditions)\n",
    "    input_vectors = np.array(input_vectors)\n",
    "    power_in_tots = np.sum(np.abs(input_vectors)**2, axis=1)\n",
    "    \n",
    "    losses = []\n",
    "    for matrix in preditions:\n",
    "        output_vectors = []\n",
    "        for input_v in input_vectors:\n",
    "            output_vectors.append(np.dot(matrix, input_v))\n",
    "        power_out_tots = np.sum(np.abs(output_vectors)**2, axis=1)\n",
    "        losses.extend(power_out_tots/power_in_tots)\n",
    "    losses_dB = 10 * np.log10(losses)\n",
    "    q25 = np.percentile(losses, 25)\n",
    "    q50 = np.percentile(losses, 50)\n",
    "    q75 = np.percentile(losses, 75)\n",
    "    q25_dB = np.percentile(losses_dB, 25)\n",
    "    q50_dB = np.percentile(losses_dB, 50)\n",
    "    q75_dB = np.percentile(losses_dB, 75)\n",
    "    \n",
    "    # Extract and convert to float\n",
    "    extract_hyp = extract_values(simulation_folder)\n",
    "    losses_pd = pd.DataFrame([{'simulation':simulation_folder,\n",
    "                               'pcilossmu': extract_hyp['pcilossmu'],\n",
    "                               'pcilosssigma': extract_hyp['pcilosssigma'],\n",
    "                               'imbalancemu': extract_hyp['imbalancemu'],\n",
    "                               'i_loss_q25': q25,\n",
    "                               'i_loss_q50': q50,\n",
    "                               'i_loss_q75': q75,\n",
    "                               'i_loss_q25_dB': q25_dB,\n",
    "                               'i_loss_q50_dB': q50_dB,\n",
    "                               'i_loss_q75_dB': q75_dB}])\n",
    "\n",
    "    return losses_pd\n",
    "\n",
    "\n",
    "# =================================================================================================================\n",
    "# MAIN\n",
    "# =================================================================================================================\n",
    "data_df = pd.DataFrame()\n",
    "input_vectors = define_inputs_eletrical_fields(data[\"num_vectors\"], data[\"n_inputs\"])\n",
    "for filename in os.listdir(directory_run):\n",
    "    directory_path = os.path.join(directory_run, filename)       # Construct the full file path\n",
    "    if \"n\"+str(data[\"n_inputs\"]) in directory_path:             # I don't like it but ok\n",
    "        if not os.path.isfile(directory_path):\n",
    "            pred_matrix = extract_prediction_matrices_1sim(directory_path, data[\"arct\"])\n",
    "            print(\"Number of data saved:\", len(pred_matrix))\n",
    "            if pred_matrix != []:   # No data in that simulation\n",
    "                simulation_folder = os.path.basename(directory_path)\n",
    "                losses_pd = model_losses(pred_matrix, input_vectors, simulation_folder)\n",
    "                data_df = pd.concat([data_df, losses_pd], ignore_index=True)"
   ]
  },
  {
   "cell_type": "markdown",
   "metadata": {},
   "source": [
    "## Write inside the JSON file"
   ]
  },
  {
   "cell_type": "code",
   "execution_count": 404,
   "metadata": {},
   "outputs": [],
   "source": [
    "# Read\n",
    "with open(folder_relative_path+data[\"date\"]+\"_\"+data[\"name_file\"]+'.json', 'r') as file:\n",
    "    data = json.load(file)\n",
    "\n",
    "for index, row in data_df.iterrows():\n",
    "    # !!!!!!!!!!!! I'm APPENDING ELEMENTS !!!!!!!!!!!!!!!!!!!!!!!!!!!\n",
    "    append_gaussian_output_simulation(\n",
    "        data=data,\n",
    "        pc_iloss_mu=row['pcilossmu'],\n",
    "        pc_iloss_sigma=row['pcilosssigma'],\n",
    "        imbalance_mu=row['imbalancemu'],\n",
    "        i_loss_q25=row['i_loss_q25'],\n",
    "        i_loss_q50=row['i_loss_q50'],\n",
    "        i_loss_q75=row['i_loss_q75'],\n",
    "        i_loss_q25_dB=row['i_loss_q25_dB'],\n",
    "        i_loss_q50_dB=row['i_loss_q50_dB'],\n",
    "        i_loss_q75_dB=row['i_loss_q75_dB'],)\n",
    "\n",
    "if True:\n",
    "    # Write JSON data to a file\n",
    "    with open(folder_relative_path+data[\"date\"]+\"_\"+data[\"name_file\"]+'.json', 'w') as json_file:\n",
    "        json.dump(data, json_file, indent=4)"
   ]
  },
  {
   "cell_type": "markdown",
   "metadata": {},
   "source": [
    "## Sort by imb"
   ]
  },
  {
   "cell_type": "code",
   "execution_count": 405,
   "metadata": {},
   "outputs": [],
   "source": [
    "# Sort the dictionary by PC_i_loss and imbalances\n",
    "import json\n",
    "\n",
    "# Read\n",
    "with open(folder_relative_path+data[\"date\"]+\"_\"+data[\"name_file\"]+'.json', 'r') as file:\n",
    "    data = json.load(file) \n",
    "\n",
    "\n",
    "# Sort by PhaseChanger IMBALANCE MU\n",
    "simulations = data[\"simulations\"]\n",
    "sorted_simulations = sorted(simulations, key=lambda x: x['imbalance_mu'])\n",
    "data[\"simulations\"] = sorted_simulations\n",
    "\n",
    "# Sort by PhaseChanger INSERTION LOSS MU\n",
    "simulations = data[\"simulations\"]\n",
    "sorted_simulations = sorted(simulations, key=lambda x: x['pc_iloss_mu'])\n",
    "data[\"simulations\"] = sorted_simulations\n",
    "\n",
    "# Sort by PhaseChanger INSERTION LOSS SIGMA\n",
    "simulations = data[\"simulations\"]\n",
    "sorted_simulations = sorted(simulations, key=lambda x: x['pc_iloss_sigma'])\n",
    "data[\"simulations\"] = sorted_simulations\n",
    "\n",
    "if True:\n",
    "    # Write JSON data to a file\n",
    "    with open(folder_relative_path+data[\"date\"]+\"_\"+data[\"name_file\"]+'.json', 'w') as json_file:\n",
    "        json.dump(data, json_file, indent=4)"
   ]
  },
  {
   "cell_type": "code",
   "execution_count": null,
   "metadata": {},
   "outputs": [],
   "source": []
  },
  {
   "cell_type": "code",
   "execution_count": null,
   "metadata": {},
   "outputs": [],
   "source": []
  },
  {
   "cell_type": "code",
   "execution_count": null,
   "metadata": {},
   "outputs": [],
   "source": []
  },
  {
   "cell_type": "code",
   "execution_count": 406,
   "metadata": {},
   "outputs": [
    {
     "name": "stdout",
     "output_type": "stream",
     "text": [
      "Vector 1: [0.34360162 0.24085737 0.15523975 0.26969772 0.27840712 0.29245171\n",
      " 0.11370881 0.30526132], Sum: 1.9992254177029625\n",
      "Vector 2: [0.18774287 0.30688446 0.31478279 0.28004477 0.23544873 0.34703482\n",
      " 0.33486314 0.15684558], Sum: 2.163647160492803\n",
      "Vector 3: [0.27293569 0.26771649 0.29684789 0.34081924 0.0800233  0.12981332\n",
      " 0.1209486  0.21351954], Sum: 1.7226240688122774\n",
      "Vector 4: [0.31690118 0.34825327 0.2040157  0.24454546 0.14955661 0.33588214\n",
      " 0.30894492 0.15766282], Sum: 2.065762106576079\n",
      "Vector 5: [0.21380077 0.27285121 0.07079395 0.3210584  0.28290267 0.04890937\n",
      " 0.31741896 0.22497018], Sum: 1.7527055215688665\n"
     ]
    },
    {
     "data": {
      "image/png": "[encoded data removed]",
      "text/plain": [
       "<Figure size 1000x600 with 1 Axes>"
      ]
     },
     "metadata": {},
     "output_type": "display_data"
    }
   ],
   "source": [
    "# Create 1000 random inputs uniform distribution\n",
    "import matplotlib.pyplot as plt\n",
    "np.random.seed(seed)\n",
    "\n",
    "def generate_inputs(num_inputs, n, seed):\n",
    "    np.random.seed(seed)\n",
    "    vectors = np.sqrt(np.random.uniform(0, 1, (num_inputs, n))/n)\n",
    "    return vectors\n",
    "\n",
    "# Parameters\n",
    "num_inputs = 1000\n",
    "n = 8  # Example length, you can change this\n",
    "\n",
    "# Generate vectors\n",
    "inputs = generate_inputs(num_inputs, n, seed)\n",
    "\n",
    "for i, vector in enumerate(inputs[:5]):\n",
    "    print(f\"Vector {i + 1}: {vector}, Sum: {np.sum(vector)}\")\n",
    "\n",
    "\n",
    "# Flatten the array to get a single array of all elements\n",
    "all_elements = np.sum(inputs, axis=1).flatten()\n",
    "\n",
    "# Plotting the distribution\n",
    "plt.figure(figsize=(10, 6))\n",
    "plt.hist(all_elements, bins=30, edgecolor='k', alpha=0.7)\n",
    "plt.title('Distribution of Vector Elements')\n",
    "plt.xlabel('Value')\n",
    "plt.ylabel('Frequency')\n",
    "plt.grid(True)\n",
    "plt.show()\n",
    "\n"
   ]
  },
  {
   "cell_type": "code",
   "execution_count": null,
   "metadata": {},
   "outputs": [],
   "source": []
  }
 ],
 "metadata": {
  "kernelspec": {
   "display_name": "torch_NP2",
   "language": "python",
   "name": "python3"
  },
  "language_info": {
   "codemirror_mode": {
    "name": "ipython",
    "version": 3
   },
   "file_extension": ".py",
   "mimetype": "text/x-python",
   "name": "python",
   "nbconvert_exporter": "python",
   "pygments_lexer": "ipython3",
   "version": "3.11.8"
  }
 },
 "nbformat": 4,
 "nbformat_minor": 2
}
