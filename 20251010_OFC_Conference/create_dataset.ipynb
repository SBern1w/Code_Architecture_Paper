{
 "cells": [
  {
   "cell_type": "markdown",
   "id": "5aed5cf4",
   "metadata": {},
   "source": [
    "# Create the dataset\n",
    "\n",
    "Create teh dataset of 1000 random matrices"
   ]
  },
  {
   "cell_type": "code",
   "execution_count": 1,
   "id": "7b71ac35",
   "metadata": {},
   "outputs": [],
   "source": [
    "import os\n",
    "import argparse\n",
    "import re\n",
    "import numpy as np\n",
    "import torch\n",
    "import torch.nn as nn\n",
    "import torch.optim as optim\n",
    "import tqdm\n",
    "import matplotlib.pyplot as plt\n",
    "\n",
    "from scipy.stats import unitary_group"
   ]
  },
  {
   "cell_type": "code",
   "execution_count": 2,
   "id": "dcef7ec2",
   "metadata": {},
   "outputs": [],
   "source": [
    "def crate_target_matrices(n_inputs, n_matrices):\n",
    "    matrices = []\n",
    "    for _ in range(n_matrices):\n",
    "        # Haar-random unitary matrices of any size\n",
    "        target_matrix_unitary = torch.tensor(unitary_group.rvs(n_inputs))\n",
    "        matrices.append(target_matrix_unitary)\n",
    "    targets = torch.stack(matrices)\n",
    "    return targets"
   ]
  },
  {
   "cell_type": "code",
   "execution_count": 3,
   "id": "1e038b41",
   "metadata": {},
   "outputs": [
    {
     "name": "stdout",
     "output_type": "stream",
     "text": [
      "torch.Size([1000, 28, 28])\n"
     ]
    }
   ],
   "source": [
    "seed = 37\n",
    "# Seed for the random number\n",
    "torch.manual_seed(seed)\n",
    "np.random.seed(seed)\n",
    "\n",
    "n_inputs = 28\n",
    "n_matrices = 1000\n",
    "\n",
    "targets = crate_target_matrices(n_inputs, n_matrices)\n",
    "\n",
    "print(targets.size())\n",
    "\n",
    "# Save to file\n",
    "torch.save(targets, \"targets_nIN\"+str(n_inputs)+\"_nM\"+str(n_matrices)+\".pt\")"
   ]
  },
  {
   "cell_type": "code",
   "execution_count": null,
   "id": "b0e8ef48",
   "metadata": {},
   "outputs": [],
   "source": []
  }
 ],
 "metadata": {
  "kernelspec": {
   "display_name": "torch_NP2",
   "language": "python",
   "name": "python3"
  },
  "language_info": {
   "codemirror_mode": {
    "name": "ipython",
    "version": 3
   },
   "file_extension": ".py",
   "mimetype": "text/x-python",
   "name": "python",
   "nbconvert_exporter": "python",
   "pygments_lexer": "ipython3",
   "version": "3.11.8"
  }
 },
 "nbformat": 4,
 "nbformat_minor": 5
}
